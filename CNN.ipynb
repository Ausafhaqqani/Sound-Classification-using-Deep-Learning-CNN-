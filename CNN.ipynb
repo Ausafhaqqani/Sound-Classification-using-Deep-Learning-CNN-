{
 "cells": [
  {
   "cell_type": "code",
   "execution_count": 1,
   "metadata": {},
   "outputs": [
    {
     "name": "stdout",
     "output_type": "stream",
     "text": [
      "no stored variable x_train\n",
      "no stored variable x_test\n",
      "no stored variable y_train\n",
      "no stored variable y_test\n",
      "no stored variable yy\n",
      "no stored variable le\n"
     ]
    }
   ],
   "source": [
    "%store -r x_train \n",
    "%store -r x_test \n",
    "%store -r y_train \n",
    "%store -r y_test \n",
    "%store -r yy \n",
    "%store -r le"
   ]
  },
  {
   "cell_type": "code",
   "execution_count": 2,
   "metadata": {},
   "outputs": [],
   "source": [
    "import numpy as np\n",
    "max_pad_len = 174\n",
    "\n",
    "def extract_features(file_name):\n",
    "   \n",
    "    try:\n",
    "        audio, sample_rate = librosa.load(file_name, res_type='kaiser_fast') \n",
    "        mfccs = librosa.feature.mfcc(y=audio, sr=sample_rate, n_mfcc=40)\n",
    "        pad_width = max_pad_len - mfccs.shape[1]\n",
    "        mfccs = np.pad(mfccs, pad_width=((0, 0), (0, pad_width)), mode='constant')\n",
    "        \n",
    "    except Exception as e:\n",
    "        print(\"Error encountered while parsing file: \", file_name)\n",
    "        return None \n",
    "     \n",
    "    return mfccs"
   ]
  },
  {
   "cell_type": "code",
   "execution_count": 3,
   "metadata": {},
   "outputs": [
    {
     "name": "stdout",
     "output_type": "stream",
     "text": [
      "Finished feature extraction from  8732  files\n"
     ]
    }
   ],
   "source": [
    "# Load various imports \n",
    "import pandas as pd\n",
    "import os\n",
    "import librosa\n",
    "\n",
    "fulldatasetpath = '/Users/PC/Deep learning/Notebooks/urbansound8k/'\n",
    "\n",
    "metadata = pd.read_csv('/Users/PC/Deep learning/UrbanSound Dataset sample/metadata/UrbanSound8K.csv')\n",
    "\n",
    "features = []\n",
    "\n",
    "for index, row in metadata.iterrows():\n",
    "    \n",
    "    file_name = os.path.join(os.path.abspath(fulldatasetpath),'fold'+str(row[\"fold\"])+'/',str(row[\"slice_file_name\"]))\n",
    "    \n",
    "    class_label = row[\"class_name\"]\n",
    "    data = extract_features(file_name)\n",
    "    \n",
    "    features.append([data, class_label])\n",
    "\n",
    "# Convert into a Panda dataframe \n",
    "featuresdf = pd.DataFrame(features, columns=['feature','class_label'])\n",
    "\n",
    "print('Finished feature extraction from ', len(featuresdf), ' files') "
   ]
  },
  {
   "cell_type": "code",
   "execution_count": 4,
   "metadata": {},
   "outputs": [
    {
     "name": "stderr",
     "output_type": "stream",
     "text": [
      "C:\\Users\\PC\\Anaconda3\\lib\\site-packages\\h5py\\__init__.py:36: FutureWarning: Conversion of the second argument of issubdtype from `float` to `np.floating` is deprecated. In future, it will be treated as `np.float64 == np.dtype(float).type`.\n",
      "  from ._conv import register_converters as _register_converters\n",
      "Using TensorFlow backend.\n"
     ]
    }
   ],
   "source": [
    "from sklearn.preprocessing import LabelEncoder\n",
    "from keras.utils import to_categorical\n",
    "import numpy as np\n",
    "from keras.models import Sequential\n",
    "from keras.layers import Dense, Dropout, Activation, Flatten\n",
    "from keras.layers import Convolution2D, Conv2D, MaxPooling2D, GlobalAveragePooling2D\n",
    "from keras.optimizers import Adam\n",
    "from keras.utils import np_utils\n",
    "from sklearn import metrics \n",
    "\n"
   ]
  },
  {
   "cell_type": "code",
   "execution_count": 5,
   "metadata": {},
   "outputs": [],
   "source": [
    "X = np.array(featuresdf.feature.tolist())\n",
    "y = np.array(featuresdf.class_label.tolist())\n",
    "\n",
    "le = LabelEncoder()\n",
    "yy = to_categorical(le.fit_transform(y)) \n",
    "\n",
    "# split the dataset \n",
    "from sklearn.model_selection import train_test_split \n",
    "\n",
    "x_train, x_test, y_train, y_test = train_test_split(X, yy, test_size=0.2, random_state = 42)"
   ]
  },
  {
   "cell_type": "code",
   "execution_count": 6,
   "metadata": {},
   "outputs": [
    {
     "name": "stdout",
     "output_type": "stream",
     "text": [
      "WARNING:tensorflow:From C:\\Users\\PC\\Anaconda3\\lib\\site-packages\\tensorflow\\python\\ops\\resource_variable_ops.py:435: colocate_with (from tensorflow.python.framework.ops) is deprecated and will be removed in a future version.\n",
      "Instructions for updating:\n",
      "Colocations handled automatically by placer.\n"
     ]
    }
   ],
   "source": [
    "num_rows = 40\n",
    "num_columns = 174\n",
    "\n",
    "x_train = x_train.reshape(x_train.shape[0], num_rows, num_columns, 1)\n",
    "x_test = x_test.reshape(x_test.shape[0], num_rows, num_columns, 1)\n",
    "\n",
    "num_labels = yy.shape[1]\n",
    "filter_size = 2\n",
    "\n",
    "# Construct model \n",
    "model = Sequential()\n",
    "model.add(Conv2D(filters=16, kernel_size=2, input_shape=(num_rows, num_columns, 1), activation='relu'))\n",
    "model.add(MaxPooling2D(pool_size=2))\n",
    "model.add(Dropout(0.2))\n",
    "\n",
    "model.add(Conv2D(filters=32, kernel_size=2, activation='relu'))\n",
    "model.add(MaxPooling2D(pool_size=2))\n",
    "model.add(Dropout(0.2))\n",
    "\n",
    "model.add(Conv2D(filters=64, kernel_size=2, activation='relu'))\n",
    "model.add(MaxPooling2D(pool_size=2))\n",
    "model.add(Dropout(0.2))\n",
    "\n",
    "model.add(Conv2D(filters=128, kernel_size=2, activation='relu'))\n",
    "model.add(MaxPooling2D(pool_size=2))\n",
    "model.add(Dropout(0.2))\n",
    "model.add(GlobalAveragePooling2D())\n",
    "\n",
    "model.add(Dense(num_labels, activation='softmax')) "
   ]
  },
  {
   "cell_type": "code",
   "execution_count": 7,
   "metadata": {},
   "outputs": [],
   "source": [
    "model.compile(loss='categorical_crossentropy', metrics=['accuracy'], optimizer='adam') "
   ]
  },
  {
   "cell_type": "code",
   "execution_count": 8,
   "metadata": {},
   "outputs": [
    {
     "name": "stdout",
     "output_type": "stream",
     "text": [
      "Model: \"sequential_1\"\n",
      "_________________________________________________________________\n",
      "Layer (type)                 Output Shape              Param #   \n",
      "=================================================================\n",
      "conv2d_1 (Conv2D)            (None, 39, 173, 16)       80        \n",
      "_________________________________________________________________\n",
      "max_pooling2d_1 (MaxPooling2 (None, 19, 86, 16)        0         \n",
      "_________________________________________________________________\n",
      "dropout_1 (Dropout)          (None, 19, 86, 16)        0         \n",
      "_________________________________________________________________\n",
      "conv2d_2 (Conv2D)            (None, 18, 85, 32)        2080      \n",
      "_________________________________________________________________\n",
      "max_pooling2d_2 (MaxPooling2 (None, 9, 42, 32)         0         \n",
      "_________________________________________________________________\n",
      "dropout_2 (Dropout)          (None, 9, 42, 32)         0         \n",
      "_________________________________________________________________\n",
      "conv2d_3 (Conv2D)            (None, 8, 41, 64)         8256      \n",
      "_________________________________________________________________\n",
      "max_pooling2d_3 (MaxPooling2 (None, 4, 20, 64)         0         \n",
      "_________________________________________________________________\n",
      "dropout_3 (Dropout)          (None, 4, 20, 64)         0         \n",
      "_________________________________________________________________\n",
      "conv2d_4 (Conv2D)            (None, 3, 19, 128)        32896     \n",
      "_________________________________________________________________\n",
      "max_pooling2d_4 (MaxPooling2 (None, 1, 9, 128)         0         \n",
      "_________________________________________________________________\n",
      "dropout_4 (Dropout)          (None, 1, 9, 128)         0         \n",
      "_________________________________________________________________\n",
      "global_average_pooling2d_1 ( (None, 128)               0         \n",
      "_________________________________________________________________\n",
      "dense_1 (Dense)              (None, 10)                1290      \n",
      "=================================================================\n",
      "Total params: 44,602\n",
      "Trainable params: 44,602\n",
      "Non-trainable params: 0\n",
      "_________________________________________________________________\n"
     ]
    }
   ],
   "source": [
    "model.summary()"
   ]
  },
  {
   "cell_type": "code",
   "execution_count": 11,
   "metadata": {},
   "outputs": [
    {
     "name": "stdout",
     "output_type": "stream",
     "text": [
      "1747/1747 [==============================] - 2s 1000us/step\n",
      "Pre-training accuracy: 9.4448%\n"
     ]
    }
   ],
   "source": [
    "score = model.evaluate(x_test, y_test, verbose=1)\n",
    "accuracy = 100*score[1]\n",
    "\n",
    "print(\"Pre-training accuracy: %.4f%%\" % accuracy)"
   ]
  },
  {
   "cell_type": "code",
   "execution_count": 31,
   "metadata": {},
   "outputs": [
    {
     "name": "stdout",
     "output_type": "stream",
     "text": [
      "Train on 6985 samples, validate on 1747 samples\n",
      "Epoch 1/100\n",
      "6985/6985 [==============================] - 27s 4ms/step - loss: 0.2259 - accuracy: 0.9214 - val_loss: 0.3313 - val_accuracy: 0.9033\n",
      "\n",
      "Epoch 00001: val_loss improved from inf to 0.33133, saving model to /Users/PC/Deep learning/Notebooks/saved_models/weights.best.basic_cnn.hdf5\n",
      "Epoch 2/100\n",
      "6985/6985 [==============================] - 27s 4ms/step - loss: 0.2189 - accuracy: 0.9250 - val_loss: 0.3282 - val_accuracy: 0.8975\n",
      "\n",
      "Epoch 00002: val_loss improved from 0.33133 to 0.32816, saving model to /Users/PC/Deep learning/Notebooks/saved_models/weights.best.basic_cnn.hdf5\n",
      "Epoch 3/100\n",
      "6985/6985 [==============================] - 27s 4ms/step - loss: 0.2214 - accuracy: 0.9236 - val_loss: 0.3501 - val_accuracy: 0.8987\n",
      "\n",
      "Epoch 00003: val_loss did not improve from 0.32816\n",
      "Epoch 4/100\n",
      "6985/6985 [==============================] - 28s 4ms/step - loss: 0.2042 - accuracy: 0.9280 - val_loss: 0.3197 - val_accuracy: 0.9118\n",
      "\n",
      "Epoch 00004: val_loss improved from 0.32816 to 0.31970, saving model to /Users/PC/Deep learning/Notebooks/saved_models/weights.best.basic_cnn.hdf5\n",
      "Epoch 5/100\n",
      "6985/6985 [==============================] - 28s 4ms/step - loss: 0.2002 - accuracy: 0.9300 - val_loss: 0.3084 - val_accuracy: 0.9136\n",
      "\n",
      "Epoch 00005: val_loss improved from 0.31970 to 0.30838, saving model to /Users/PC/Deep learning/Notebooks/saved_models/weights.best.basic_cnn.hdf5\n",
      "Epoch 6/100\n",
      "6985/6985 [==============================] - 28s 4ms/step - loss: 0.2046 - accuracy: 0.9278 - val_loss: 0.3322 - val_accuracy: 0.9044\n",
      "\n",
      "Epoch 00006: val_loss did not improve from 0.30838\n",
      "Epoch 7/100\n",
      "6985/6985 [==============================] - 29s 4ms/step - loss: 0.2038 - accuracy: 0.9300 - val_loss: 0.3373 - val_accuracy: 0.9061\n",
      "\n",
      "Epoch 00007: val_loss did not improve from 0.30838\n",
      "Epoch 8/100\n",
      "6985/6985 [==============================] - 29s 4ms/step - loss: 0.2077 - accuracy: 0.9253 - val_loss: 0.3284 - val_accuracy: 0.9050\n",
      "\n",
      "Epoch 00008: val_loss did not improve from 0.30838\n",
      "Epoch 9/100\n",
      "6985/6985 [==============================] - 28s 4ms/step - loss: 0.2068 - accuracy: 0.9248 - val_loss: 0.3214 - val_accuracy: 0.9096\n",
      "\n",
      "Epoch 00009: val_loss did not improve from 0.30838\n",
      "Epoch 10/100\n",
      "6985/6985 [==============================] - 28s 4ms/step - loss: 0.2000 - accuracy: 0.9310 - val_loss: 0.3144 - val_accuracy: 0.9056\n",
      "\n",
      "Epoch 00010: val_loss did not improve from 0.30838\n",
      "Epoch 11/100\n",
      "6985/6985 [==============================] - 28s 4ms/step - loss: 0.1933 - accuracy: 0.9326 - val_loss: 0.2947 - val_accuracy: 0.9193\n",
      "\n",
      "Epoch 00011: val_loss improved from 0.30838 to 0.29465, saving model to /Users/PC/Deep learning/Notebooks/saved_models/weights.best.basic_cnn.hdf5\n",
      "Epoch 12/100\n",
      "6985/6985 [==============================] - 29s 4ms/step - loss: 0.2028 - accuracy: 0.9320 - val_loss: 0.3044 - val_accuracy: 0.9124\n",
      "\n",
      "Epoch 00012: val_loss did not improve from 0.29465\n",
      "Epoch 13/100\n",
      "6985/6985 [==============================] - 28s 4ms/step - loss: 0.2017 - accuracy: 0.9316 - val_loss: 0.3241 - val_accuracy: 0.9027\n",
      "\n",
      "Epoch 00013: val_loss did not improve from 0.29465\n",
      "Epoch 14/100\n",
      "6985/6985 [==============================] - 28s 4ms/step - loss: 0.1974 - accuracy: 0.9297 - val_loss: 0.2983 - val_accuracy: 0.9113\n",
      "\n",
      "Epoch 00014: val_loss did not improve from 0.29465\n",
      "Epoch 15/100\n",
      "6985/6985 [==============================] - 28s 4ms/step - loss: 0.1891 - accuracy: 0.9327 - val_loss: 0.2976 - val_accuracy: 0.9107\n",
      "\n",
      "Epoch 00015: val_loss did not improve from 0.29465\n",
      "Epoch 16/100\n",
      "6985/6985 [==============================] - 28s 4ms/step - loss: 0.1855 - accuracy: 0.9363 - val_loss: 0.3055 - val_accuracy: 0.9141\n",
      "\n",
      "Epoch 00016: val_loss did not improve from 0.29465\n",
      "Epoch 17/100\n",
      "6985/6985 [==============================] - 28s 4ms/step - loss: 0.1873 - accuracy: 0.9361 - val_loss: 0.3008 - val_accuracy: 0.9118\n",
      "\n",
      "Epoch 00017: val_loss did not improve from 0.29465\n",
      "Epoch 18/100\n",
      "6985/6985 [==============================] - 28s 4ms/step - loss: 0.1730 - accuracy: 0.9406 - val_loss: 0.3246 - val_accuracy: 0.9038\n",
      "\n",
      "Epoch 00018: val_loss did not improve from 0.29465\n",
      "Epoch 19/100\n",
      "6985/6985 [==============================] - 28s 4ms/step - loss: 0.1740 - accuracy: 0.9369 - val_loss: 0.2893 - val_accuracy: 0.9210\n",
      "\n",
      "Epoch 00019: val_loss improved from 0.29465 to 0.28930, saving model to /Users/PC/Deep learning/Notebooks/saved_models/weights.best.basic_cnn.hdf5\n",
      "Epoch 20/100\n",
      "6985/6985 [==============================] - 28s 4ms/step - loss: 0.1831 - accuracy: 0.9367 - val_loss: 0.3007 - val_accuracy: 0.9050\n",
      "\n",
      "Epoch 00020: val_loss did not improve from 0.28930\n",
      "Epoch 21/100\n",
      "6985/6985 [==============================] - 28s 4ms/step - loss: 0.1675 - accuracy: 0.9439 - val_loss: 0.2910 - val_accuracy: 0.9170\n",
      "\n",
      "Epoch 00021: val_loss did not improve from 0.28930\n",
      "Epoch 22/100\n",
      "6985/6985 [==============================] - 28s 4ms/step - loss: 0.1561 - accuracy: 0.9436 - val_loss: 0.3134 - val_accuracy: 0.9164\n",
      "\n",
      "Epoch 00022: val_loss did not improve from 0.28930\n",
      "Epoch 23/100\n",
      "6985/6985 [==============================] - 28s 4ms/step - loss: 0.1711 - accuracy: 0.9369 - val_loss: 0.3241 - val_accuracy: 0.9061\n",
      "\n",
      "Epoch 00023: val_loss did not improve from 0.28930\n",
      "Epoch 24/100\n",
      "6985/6985 [==============================] - 28s 4ms/step - loss: 0.1747 - accuracy: 0.9351 - val_loss: 0.2986 - val_accuracy: 0.9118\n",
      "\n",
      "Epoch 00024: val_loss did not improve from 0.28930\n",
      "Epoch 25/100\n",
      "6985/6985 [==============================] - 29s 4ms/step - loss: 0.1563 - accuracy: 0.9453 - val_loss: 0.2799 - val_accuracy: 0.9233\n",
      "\n",
      "Epoch 00025: val_loss improved from 0.28930 to 0.27987, saving model to /Users/PC/Deep learning/Notebooks/saved_models/weights.best.basic_cnn.hdf5\n",
      "Epoch 26/100\n",
      "6985/6985 [==============================] - 28s 4ms/step - loss: 0.1543 - accuracy: 0.9469 - val_loss: 0.2814 - val_accuracy: 0.9222\n",
      "\n",
      "Epoch 00026: val_loss did not improve from 0.27987\n",
      "Epoch 27/100\n",
      "6985/6985 [==============================] - 28s 4ms/step - loss: 0.1573 - accuracy: 0.9443 - val_loss: 0.2776 - val_accuracy: 0.9193\n",
      "\n",
      "Epoch 00027: val_loss improved from 0.27987 to 0.27761, saving model to /Users/PC/Deep learning/Notebooks/saved_models/weights.best.basic_cnn.hdf5\n",
      "Epoch 28/100\n",
      "6985/6985 [==============================] - 28s 4ms/step - loss: 0.1575 - accuracy: 0.9436 - val_loss: 0.2921 - val_accuracy: 0.9118\n",
      "\n",
      "Epoch 00028: val_loss did not improve from 0.27761\n",
      "Epoch 29/100\n",
      "6985/6985 [==============================] - 28s 4ms/step - loss: 0.1739 - accuracy: 0.9399 - val_loss: 0.3091 - val_accuracy: 0.9181\n",
      "\n",
      "Epoch 00029: val_loss did not improve from 0.27761\n",
      "Epoch 30/100\n",
      "6985/6985 [==============================] - 28s 4ms/step - loss: 0.1646 - accuracy: 0.9396 - val_loss: 0.2799 - val_accuracy: 0.9227\n",
      "\n",
      "Epoch 00030: val_loss did not improve from 0.27761\n",
      "Epoch 31/100\n",
      "6985/6985 [==============================] - 28s 4ms/step - loss: 0.1461 - accuracy: 0.9477 - val_loss: 0.2927 - val_accuracy: 0.9153\n",
      "\n",
      "Epoch 00031: val_loss did not improve from 0.27761\n",
      "Epoch 32/100\n",
      "6985/6985 [==============================] - 29s 4ms/step - loss: 0.1419 - accuracy: 0.9475 - val_loss: 0.2956 - val_accuracy: 0.9159\n",
      "\n",
      "Epoch 00032: val_loss did not improve from 0.27761\n",
      "Epoch 33/100\n",
      "6985/6985 [==============================] - 28s 4ms/step - loss: 0.1414 - accuracy: 0.9515 - val_loss: 0.3054 - val_accuracy: 0.9164\n",
      "\n",
      "Epoch 00033: val_loss did not improve from 0.27761\n",
      "Epoch 34/100\n",
      "6985/6985 [==============================] - 28s 4ms/step - loss: 0.1462 - accuracy: 0.9489 - val_loss: 0.2899 - val_accuracy: 0.9153\n",
      "\n",
      "Epoch 00034: val_loss did not improve from 0.27761\n",
      "Epoch 35/100\n",
      "6985/6985 [==============================] - 28s 4ms/step - loss: 0.1479 - accuracy: 0.9489 - val_loss: 0.2857 - val_accuracy: 0.9233\n",
      "\n",
      "Epoch 00035: val_loss did not improve from 0.27761\n",
      "Epoch 36/100\n",
      "6985/6985 [==============================] - 28s 4ms/step - loss: 0.1370 - accuracy: 0.9533 - val_loss: 0.2959 - val_accuracy: 0.9107\n",
      "\n",
      "Epoch 00036: val_loss did not improve from 0.27761\n",
      "Epoch 37/100\n",
      "6985/6985 [==============================] - 28s 4ms/step - loss: 0.1480 - accuracy: 0.9479 - val_loss: 0.3065 - val_accuracy: 0.9170\n",
      "\n",
      "Epoch 00037: val_loss did not improve from 0.27761\n",
      "Epoch 38/100\n"
     ]
    },
    {
     "name": "stdout",
     "output_type": "stream",
     "text": [
      "6985/6985 [==============================] - 28s 4ms/step - loss: 0.1481 - accuracy: 0.9506 - val_loss: 0.2972 - val_accuracy: 0.9153\n",
      "\n",
      "Epoch 00038: val_loss did not improve from 0.27761\n",
      "Epoch 39/100\n",
      "6985/6985 [==============================] - 28s 4ms/step - loss: 0.1398 - accuracy: 0.9526 - val_loss: 0.2984 - val_accuracy: 0.9170\n",
      "\n",
      "Epoch 00039: val_loss did not improve from 0.27761\n",
      "Epoch 40/100\n",
      "6985/6985 [==============================] - 28s 4ms/step - loss: 0.1390 - accuracy: 0.9506 - val_loss: 0.3113 - val_accuracy: 0.9113\n",
      "\n",
      "Epoch 00040: val_loss did not improve from 0.27761\n",
      "Epoch 41/100\n",
      "6985/6985 [==============================] - 28s 4ms/step - loss: 0.1285 - accuracy: 0.9546 - val_loss: 0.3161 - val_accuracy: 0.9153\n",
      "\n",
      "Epoch 00041: val_loss did not improve from 0.27761\n",
      "Epoch 42/100\n",
      "6985/6985 [==============================] - 28s 4ms/step - loss: 0.1424 - accuracy: 0.9499 - val_loss: 0.2879 - val_accuracy: 0.9164\n",
      "\n",
      "Epoch 00042: val_loss did not improve from 0.27761\n",
      "Epoch 43/100\n",
      "6985/6985 [==============================] - 29s 4ms/step - loss: 0.1344 - accuracy: 0.9540 - val_loss: 0.2782 - val_accuracy: 0.9222\n",
      "\n",
      "Epoch 00043: val_loss did not improve from 0.27761\n",
      "Epoch 44/100\n",
      "6985/6985 [==============================] - 28s 4ms/step - loss: 0.1406 - accuracy: 0.9522 - val_loss: 0.2740 - val_accuracy: 0.9210\n",
      "\n",
      "Epoch 00044: val_loss improved from 0.27761 to 0.27396, saving model to /Users/PC/Deep learning/Notebooks/saved_models/weights.best.basic_cnn.hdf5\n",
      "Epoch 45/100\n",
      "6985/6985 [==============================] - 28s 4ms/step - loss: 0.1370 - accuracy: 0.9513 - val_loss: 0.2842 - val_accuracy: 0.9204\n",
      "\n",
      "Epoch 00045: val_loss did not improve from 0.27396\n",
      "Epoch 46/100\n",
      "6985/6985 [==============================] - 30s 4ms/step - loss: 0.1370 - accuracy: 0.9532 - val_loss: 0.2753 - val_accuracy: 0.9193\n",
      "\n",
      "Epoch 00046: val_loss did not improve from 0.27396\n",
      "Epoch 47/100\n",
      "6985/6985 [==============================] - 29s 4ms/step - loss: 0.1229 - accuracy: 0.9559 - val_loss: 0.2700 - val_accuracy: 0.9267\n",
      "\n",
      "Epoch 00047: val_loss improved from 0.27396 to 0.27001, saving model to /Users/PC/Deep learning/Notebooks/saved_models/weights.best.basic_cnn.hdf5\n",
      "Epoch 48/100\n",
      "6985/6985 [==============================] - 28s 4ms/step - loss: 0.1348 - accuracy: 0.9543 - val_loss: 0.2721 - val_accuracy: 0.9262\n",
      "\n",
      "Epoch 00048: val_loss did not improve from 0.27001\n",
      "Epoch 49/100\n",
      "6985/6985 [==============================] - 29s 4ms/step - loss: 0.1301 - accuracy: 0.9532 - val_loss: 0.2960 - val_accuracy: 0.9199\n",
      "\n",
      "Epoch 00049: val_loss did not improve from 0.27001\n",
      "Epoch 50/100\n",
      "6985/6985 [==============================] - 28s 4ms/step - loss: 0.1303 - accuracy: 0.9563 - val_loss: 0.2989 - val_accuracy: 0.9204\n",
      "\n",
      "Epoch 00050: val_loss did not improve from 0.27001\n",
      "Epoch 51/100\n",
      "6985/6985 [==============================] - 29s 4ms/step - loss: 0.1214 - accuracy: 0.9550 - val_loss: 0.2982 - val_accuracy: 0.9170\n",
      "\n",
      "Epoch 00051: val_loss did not improve from 0.27001\n",
      "Epoch 52/100\n",
      "6985/6985 [==============================] - 28s 4ms/step - loss: 0.1362 - accuracy: 0.9545 - val_loss: 0.2971 - val_accuracy: 0.9256\n",
      "\n",
      "Epoch 00052: val_loss did not improve from 0.27001\n",
      "Epoch 53/100\n",
      "6985/6985 [==============================] - 29s 4ms/step - loss: 0.1325 - accuracy: 0.9522 - val_loss: 0.2962 - val_accuracy: 0.9164\n",
      "\n",
      "Epoch 00053: val_loss did not improve from 0.27001\n",
      "Epoch 54/100\n",
      "6985/6985 [==============================] - 28s 4ms/step - loss: 0.1225 - accuracy: 0.9559 - val_loss: 0.2897 - val_accuracy: 0.9250\n",
      "\n",
      "Epoch 00054: val_loss did not improve from 0.27001\n",
      "Epoch 55/100\n",
      "6985/6985 [==============================] - 29s 4ms/step - loss: 0.1200 - accuracy: 0.9578 - val_loss: 0.3047 - val_accuracy: 0.9170\n",
      "\n",
      "Epoch 00055: val_loss did not improve from 0.27001\n",
      "Epoch 56/100\n",
      "6985/6985 [==============================] - 29s 4ms/step - loss: 0.1238 - accuracy: 0.9582 - val_loss: 0.2902 - val_accuracy: 0.9187\n",
      "\n",
      "Epoch 00056: val_loss did not improve from 0.27001\n",
      "Epoch 57/100\n",
      "6985/6985 [==============================] - 29s 4ms/step - loss: 0.1235 - accuracy: 0.9571 - val_loss: 0.3034 - val_accuracy: 0.9170\n",
      "\n",
      "Epoch 00057: val_loss did not improve from 0.27001\n",
      "Epoch 58/100\n",
      "6985/6985 [==============================] - 28s 4ms/step - loss: 0.1239 - accuracy: 0.9555 - val_loss: 0.2713 - val_accuracy: 0.9233\n",
      "\n",
      "Epoch 00058: val_loss did not improve from 0.27001\n",
      "Epoch 59/100\n",
      "6985/6985 [==============================] - 28s 4ms/step - loss: 0.1067 - accuracy: 0.9646 - val_loss: 0.3048 - val_accuracy: 0.9216\n",
      "\n",
      "Epoch 00059: val_loss did not improve from 0.27001\n",
      "Epoch 60/100\n",
      "6985/6985 [==============================] - 30s 4ms/step - loss: 0.1291 - accuracy: 0.9540 - val_loss: 0.2892 - val_accuracy: 0.9210\n",
      "\n",
      "Epoch 00060: val_loss did not improve from 0.27001\n",
      "Epoch 61/100\n",
      "6985/6985 [==============================] - 30s 4ms/step - loss: 0.1295 - accuracy: 0.9552 - val_loss: 0.2835 - val_accuracy: 0.9210\n",
      "\n",
      "Epoch 00061: val_loss did not improve from 0.27001\n",
      "Epoch 62/100\n",
      "6985/6985 [==============================] - 30s 4ms/step - loss: 0.1114 - accuracy: 0.9623 - val_loss: 0.2800 - val_accuracy: 0.9267\n",
      "\n",
      "Epoch 00062: val_loss did not improve from 0.27001\n",
      "Epoch 63/100\n",
      "6985/6985 [==============================] - 30s 4ms/step - loss: 0.1075 - accuracy: 0.9622 - val_loss: 0.2813 - val_accuracy: 0.9296\n",
      "\n",
      "Epoch 00063: val_loss did not improve from 0.27001\n",
      "Epoch 64/100\n",
      "6985/6985 [==============================] - 30s 4ms/step - loss: 0.1223 - accuracy: 0.9573 - val_loss: 0.3169 - val_accuracy: 0.9170\n",
      "\n",
      "Epoch 00064: val_loss did not improve from 0.27001\n",
      "Epoch 65/100\n",
      "6985/6985 [==============================] - 30s 4ms/step - loss: 0.1173 - accuracy: 0.9583 - val_loss: 0.2665 - val_accuracy: 0.9273\n",
      "\n",
      "Epoch 00065: val_loss improved from 0.27001 to 0.26646, saving model to /Users/PC/Deep learning/Notebooks/saved_models/weights.best.basic_cnn.hdf5\n",
      "Epoch 66/100\n",
      "6985/6985 [==============================] - 30s 4ms/step - loss: 0.1220 - accuracy: 0.9583 - val_loss: 0.2679 - val_accuracy: 0.9256\n",
      "\n",
      "Epoch 00066: val_loss did not improve from 0.26646\n",
      "Epoch 67/100\n",
      "6985/6985 [==============================] - 30s 4ms/step - loss: 0.1140 - accuracy: 0.9605 - val_loss: 0.2613 - val_accuracy: 0.9325\n",
      "\n",
      "Epoch 00067: val_loss improved from 0.26646 to 0.26134, saving model to /Users/PC/Deep learning/Notebooks/saved_models/weights.best.basic_cnn.hdf5\n",
      "Epoch 68/100\n",
      "6985/6985 [==============================] - 30s 4ms/step - loss: 0.1047 - accuracy: 0.9623 - val_loss: 0.2707 - val_accuracy: 0.9273\n",
      "\n",
      "Epoch 00068: val_loss did not improve from 0.26134\n",
      "Epoch 69/100\n",
      "6985/6985 [==============================] - 30s 4ms/step - loss: 0.1185 - accuracy: 0.9598 - val_loss: 0.2845 - val_accuracy: 0.9193\n",
      "\n",
      "Epoch 00069: val_loss did not improve from 0.26134\n",
      "Epoch 70/100\n",
      "6985/6985 [==============================] - 30s 4ms/step - loss: 0.1149 - accuracy: 0.9565 - val_loss: 0.2913 - val_accuracy: 0.9216\n",
      "\n",
      "Epoch 00070: val_loss did not improve from 0.26134\n",
      "Epoch 71/100\n",
      "6985/6985 [==============================] - 31s 4ms/step - loss: 0.1053 - accuracy: 0.9625 - val_loss: 0.2840 - val_accuracy: 0.9256\n",
      "\n",
      "Epoch 00071: val_loss did not improve from 0.26134\n",
      "Epoch 72/100\n",
      "6985/6985 [==============================] - 31s 4ms/step - loss: 0.1174 - accuracy: 0.9609 - val_loss: 0.2688 - val_accuracy: 0.9313\n",
      "\n",
      "Epoch 00072: val_loss did not improve from 0.26134\n",
      "Epoch 73/100\n",
      "6985/6985 [==============================] - 31s 4ms/step - loss: 0.1213 - accuracy: 0.9566 - val_loss: 0.2855 - val_accuracy: 0.9181\n",
      "\n",
      "Epoch 00073: val_loss did not improve from 0.26134\n",
      "Epoch 74/100\n",
      "6985/6985 [==============================] - 30s 4ms/step - loss: 0.1054 - accuracy: 0.9632 - val_loss: 0.2877 - val_accuracy: 0.9227\n",
      "\n",
      "Epoch 00074: val_loss did not improve from 0.26134\n",
      "Epoch 75/100\n",
      "6985/6985 [==============================] - 30s 4ms/step - loss: 0.1025 - accuracy: 0.9639 - val_loss: 0.2904 - val_accuracy: 0.9216\n",
      "\n",
      "Epoch 00075: val_loss did not improve from 0.26134\n",
      "Epoch 76/100\n",
      "6985/6985 [==============================] - 32s 5ms/step - loss: 0.1053 - accuracy: 0.9605 - val_loss: 0.2805 - val_accuracy: 0.9250\n",
      "\n",
      "Epoch 00076: val_loss did not improve from 0.26134\n",
      "Epoch 77/100\n"
     ]
    },
    {
     "name": "stdout",
     "output_type": "stream",
     "text": [
      "6985/6985 [==============================] - 33s 5ms/step - loss: 0.0982 - accuracy: 0.9655 - val_loss: 0.3061 - val_accuracy: 0.9204\n",
      "\n",
      "Epoch 00077: val_loss did not improve from 0.26134\n",
      "Epoch 78/100\n",
      "6985/6985 [==============================] - 32s 5ms/step - loss: 0.1011 - accuracy: 0.9651 - val_loss: 0.2851 - val_accuracy: 0.9262\n",
      "\n",
      "Epoch 00078: val_loss did not improve from 0.26134\n",
      "Epoch 79/100\n",
      "6985/6985 [==============================] - 32s 5ms/step - loss: 0.1042 - accuracy: 0.9636 - val_loss: 0.2966 - val_accuracy: 0.9216\n",
      "\n",
      "Epoch 00079: val_loss did not improve from 0.26134\n",
      "Epoch 80/100\n",
      "6985/6985 [==============================] - 33s 5ms/step - loss: 0.1116 - accuracy: 0.9592 - val_loss: 0.3018 - val_accuracy: 0.9199\n",
      "\n",
      "Epoch 00080: val_loss did not improve from 0.26134\n",
      "Epoch 81/100\n",
      "6985/6985 [==============================] - 32s 5ms/step - loss: 0.0993 - accuracy: 0.9635 - val_loss: 0.2848 - val_accuracy: 0.9227\n",
      "\n",
      "Epoch 00081: val_loss did not improve from 0.26134\n",
      "Epoch 82/100\n",
      "6985/6985 [==============================] - 33s 5ms/step - loss: 0.1073 - accuracy: 0.9622 - val_loss: 0.2717 - val_accuracy: 0.9279\n",
      "\n",
      "Epoch 00082: val_loss did not improve from 0.26134\n",
      "Epoch 83/100\n",
      "6985/6985 [==============================] - 30s 4ms/step - loss: 0.0917 - accuracy: 0.9684 - val_loss: 0.2710 - val_accuracy: 0.9284\n",
      "\n",
      "Epoch 00083: val_loss did not improve from 0.26134\n",
      "Epoch 84/100\n",
      "6985/6985 [==============================] - 30s 4ms/step - loss: 0.0971 - accuracy: 0.9671 - val_loss: 0.3124 - val_accuracy: 0.9204\n",
      "\n",
      "Epoch 00084: val_loss did not improve from 0.26134\n",
      "Epoch 85/100\n",
      "6985/6985 [==============================] - 32s 5ms/step - loss: 0.1055 - accuracy: 0.9628 - val_loss: 0.2889 - val_accuracy: 0.9313\n",
      "\n",
      "Epoch 00085: val_loss did not improve from 0.26134\n",
      "Epoch 86/100\n",
      "6985/6985 [==============================] - 30s 4ms/step - loss: 0.0995 - accuracy: 0.9662 - val_loss: 0.2687 - val_accuracy: 0.9267\n",
      "\n",
      "Epoch 00086: val_loss did not improve from 0.26134\n",
      "Epoch 87/100\n",
      "6985/6985 [==============================] - 31s 4ms/step - loss: 0.0958 - accuracy: 0.9656 - val_loss: 0.2829 - val_accuracy: 0.9233\n",
      "\n",
      "Epoch 00087: val_loss did not improve from 0.26134\n",
      "Epoch 88/100\n",
      "6985/6985 [==============================] - 30s 4ms/step - loss: 0.0956 - accuracy: 0.9662 - val_loss: 0.3129 - val_accuracy: 0.9222\n",
      "\n",
      "Epoch 00088: val_loss did not improve from 0.26134\n",
      "Epoch 89/100\n",
      "6985/6985 [==============================] - 30s 4ms/step - loss: 0.0936 - accuracy: 0.9684 - val_loss: 0.3012 - val_accuracy: 0.9233\n",
      "\n",
      "Epoch 00089: val_loss did not improve from 0.26134\n",
      "Epoch 90/100\n",
      "6985/6985 [==============================] - 30s 4ms/step - loss: 0.0981 - accuracy: 0.9652 - val_loss: 0.2941 - val_accuracy: 0.9267\n",
      "\n",
      "Epoch 00090: val_loss did not improve from 0.26134\n",
      "Epoch 91/100\n",
      "6985/6985 [==============================] - 30s 4ms/step - loss: 0.0953 - accuracy: 0.9659 - val_loss: 0.2934 - val_accuracy: 0.9273\n",
      "\n",
      "Epoch 00091: val_loss did not improve from 0.26134\n",
      "Epoch 92/100\n",
      "6985/6985 [==============================] - 31s 4ms/step - loss: 0.0844 - accuracy: 0.9724 - val_loss: 0.3047 - val_accuracy: 0.9222\n",
      "\n",
      "Epoch 00092: val_loss did not improve from 0.26134\n",
      "Epoch 93/100\n",
      "6985/6985 [==============================] - 32s 5ms/step - loss: 0.0917 - accuracy: 0.9678 - val_loss: 0.2815 - val_accuracy: 0.9244\n",
      "\n",
      "Epoch 00093: val_loss did not improve from 0.26134\n",
      "Epoch 94/100\n",
      "6985/6985 [==============================] - 30s 4ms/step - loss: 0.0872 - accuracy: 0.9691 - val_loss: 0.2913 - val_accuracy: 0.9216\n",
      "\n",
      "Epoch 00094: val_loss did not improve from 0.26134\n",
      "Epoch 95/100\n",
      "6985/6985 [==============================] - 30s 4ms/step - loss: 0.0931 - accuracy: 0.9668 - val_loss: 0.2821 - val_accuracy: 0.9262\n",
      "\n",
      "Epoch 00095: val_loss did not improve from 0.26134\n",
      "Epoch 96/100\n",
      "6985/6985 [==============================] - 30s 4ms/step - loss: 0.0898 - accuracy: 0.9672 - val_loss: 0.3187 - val_accuracy: 0.9239\n",
      "\n",
      "Epoch 00096: val_loss did not improve from 0.26134\n",
      "Epoch 97/100\n",
      "6985/6985 [==============================] - 30s 4ms/step - loss: 0.0942 - accuracy: 0.9679 - val_loss: 0.2835 - val_accuracy: 0.9290\n",
      "\n",
      "Epoch 00097: val_loss did not improve from 0.26134\n",
      "Epoch 98/100\n",
      "6985/6985 [==============================] - 30s 4ms/step - loss: 0.0896 - accuracy: 0.9671 - val_loss: 0.2865 - val_accuracy: 0.9262\n",
      "\n",
      "Epoch 00098: val_loss did not improve from 0.26134\n",
      "Epoch 99/100\n",
      "6985/6985 [==============================] - 30s 4ms/step - loss: 0.0876 - accuracy: 0.9682 - val_loss: 0.2797 - val_accuracy: 0.9290\n",
      "\n",
      "Epoch 00099: val_loss did not improve from 0.26134\n",
      "Epoch 100/100\n",
      "6985/6985 [==============================] - 30s 4ms/step - loss: 0.0862 - accuracy: 0.9698 - val_loss: 0.2884 - val_accuracy: 0.9227\n",
      "\n",
      "Epoch 00100: val_loss did not improve from 0.26134\n",
      "Training completed in time:  0:48:52.452845\n"
     ]
    }
   ],
   "source": [
    "from keras.callbacks import ModelCheckpoint \n",
    "from datetime import datetime \n",
    "\n",
    "num_epochs = 100\n",
    "num_batch_size = 256\n",
    "\n",
    "checkpointer = ModelCheckpoint(filepath='/Users/PC/Deep learning/Notebooks/saved_models/weights.best.basic_cnn.hdf5', \n",
    "                               verbose=1, save_best_only=True)\n",
    "start = datetime.now()\n",
    "\n",
    "history = model.fit(x_train, y_train, batch_size=num_batch_size, epochs=num_epochs, validation_data=(x_test, y_test), callbacks=[checkpointer], verbose=1)\n",
    "\n",
    "\n",
    "duration = datetime.now() - start\n",
    "print(\"Training completed in time: \", duration)"
   ]
  },
  {
   "cell_type": "code",
   "execution_count": 38,
   "metadata": {},
   "outputs": [
    {
     "name": "stdout",
     "output_type": "stream",
     "text": [
      "Training Accuracy:  0.989692211151123\n",
      "Testing Accuracy:  0.9227246642112732\n"
     ]
    }
   ],
   "source": [
    "score = model.evaluate(x_train, y_train, verbose=0)\n",
    "print(\"Training Accuracy: \", score[1])\n",
    "\n",
    "score = model.evaluate(x_test, y_test, verbose=0)\n",
    "print(\"Testing Accuracy: \", score[1])"
   ]
  },
  {
   "cell_type": "code",
   "execution_count": 39,
   "metadata": {},
   "outputs": [],
   "source": [
    "def print_prediction(file_name):\n",
    "    prediction_feature = extract_features(file_name) \n",
    "    prediction_feature = prediction_feature.reshape(1, num_rows, num_columns, 1)\n",
    "\n",
    "    predicted_vector = model.predict_classes(prediction_feature)\n",
    "    predicted_class = le.inverse_transform(predicted_vector) \n",
    "    print(\"The predicted class is:\", predicted_class[0], '\\n') \n",
    "\n",
    "    predicted_proba_vector = model.predict_proba(prediction_feature) \n",
    "    predicted_proba = predicted_proba_vector[0]\n",
    "    for i in range(len(predicted_proba)): \n",
    "        category = le.inverse_transform(np.array([i]))\n",
    "        print(category[0], \"\\t\\t : \", format(predicted_proba[i], '.32f') )"
   ]
  },
  {
   "cell_type": "code",
   "execution_count": 40,
   "metadata": {},
   "outputs": [
    {
     "name": "stdout",
     "output_type": "stream",
     "text": [
      "The predicted class is: drilling \n",
      "\n",
      "air_conditioner \t\t :  0.00000000096021868234430485244957\n",
      "car_horn \t\t :  0.00000000000000011661610804618305\n",
      "children_playing \t\t :  0.00000000176181946809350620242185\n",
      "dog_bark \t\t :  0.00000000000019882251227343328281\n",
      "drilling \t\t :  0.99999308586120605468750000000000\n",
      "engine_idling \t\t :  0.00000000131292154925688464572886\n",
      "gun_shot \t\t :  0.00000000000018252357904171429004\n",
      "jackhammer \t\t :  0.00000682402060192544013261795044\n",
      "siren \t\t :  0.00000000001389500146886657461209\n",
      "street_music \t\t :  0.00000010089981117289426038041711\n"
     ]
    },
    {
     "name": "stderr",
     "output_type": "stream",
     "text": [
      "C:\\Users\\PC\\Anaconda3\\lib\\site-packages\\sklearn\\preprocessing\\label.py:151: DeprecationWarning: The truth value of an empty array is ambiguous. Returning False, but in future this will result in an error. Use `array.size > 0` to check that an array is not empty.\n",
      "  if diff:\n",
      "C:\\Users\\PC\\Anaconda3\\lib\\site-packages\\sklearn\\preprocessing\\label.py:151: DeprecationWarning: The truth value of an empty array is ambiguous. Returning False, but in future this will result in an error. Use `array.size > 0` to check that an array is not empty.\n",
      "  if diff:\n",
      "C:\\Users\\PC\\Anaconda3\\lib\\site-packages\\sklearn\\preprocessing\\label.py:151: DeprecationWarning: The truth value of an empty array is ambiguous. Returning False, but in future this will result in an error. Use `array.size > 0` to check that an array is not empty.\n",
      "  if diff:\n",
      "C:\\Users\\PC\\Anaconda3\\lib\\site-packages\\sklearn\\preprocessing\\label.py:151: DeprecationWarning: The truth value of an empty array is ambiguous. Returning False, but in future this will result in an error. Use `array.size > 0` to check that an array is not empty.\n",
      "  if diff:\n",
      "C:\\Users\\PC\\Anaconda3\\lib\\site-packages\\sklearn\\preprocessing\\label.py:151: DeprecationWarning: The truth value of an empty array is ambiguous. Returning False, but in future this will result in an error. Use `array.size > 0` to check that an array is not empty.\n",
      "  if diff:\n",
      "C:\\Users\\PC\\Anaconda3\\lib\\site-packages\\sklearn\\preprocessing\\label.py:151: DeprecationWarning: The truth value of an empty array is ambiguous. Returning False, but in future this will result in an error. Use `array.size > 0` to check that an array is not empty.\n",
      "  if diff:\n",
      "C:\\Users\\PC\\Anaconda3\\lib\\site-packages\\sklearn\\preprocessing\\label.py:151: DeprecationWarning: The truth value of an empty array is ambiguous. Returning False, but in future this will result in an error. Use `array.size > 0` to check that an array is not empty.\n",
      "  if diff:\n",
      "C:\\Users\\PC\\Anaconda3\\lib\\site-packages\\sklearn\\preprocessing\\label.py:151: DeprecationWarning: The truth value of an empty array is ambiguous. Returning False, but in future this will result in an error. Use `array.size > 0` to check that an array is not empty.\n",
      "  if diff:\n",
      "C:\\Users\\PC\\Anaconda3\\lib\\site-packages\\sklearn\\preprocessing\\label.py:151: DeprecationWarning: The truth value of an empty array is ambiguous. Returning False, but in future this will result in an error. Use `array.size > 0` to check that an array is not empty.\n",
      "  if diff:\n",
      "C:\\Users\\PC\\Anaconda3\\lib\\site-packages\\sklearn\\preprocessing\\label.py:151: DeprecationWarning: The truth value of an empty array is ambiguous. Returning False, but in future this will result in an error. Use `array.size > 0` to check that an array is not empty.\n",
      "  if diff:\n",
      "C:\\Users\\PC\\Anaconda3\\lib\\site-packages\\sklearn\\preprocessing\\label.py:151: DeprecationWarning: The truth value of an empty array is ambiguous. Returning False, but in future this will result in an error. Use `array.size > 0` to check that an array is not empty.\n",
      "  if diff:\n"
     ]
    }
   ],
   "source": [
    "#drilling\n",
    "filename = '/Users/PC/Deep learning/UrbanSound Dataset sample/audio/103199-4-0-0.wav' \n",
    "print_prediction(filename) "
   ]
  },
  {
   "cell_type": "code",
   "execution_count": 41,
   "metadata": {},
   "outputs": [
    {
     "name": "stdout",
     "output_type": "stream",
     "text": [
      "The predicted class is: air_conditioner \n",
      "\n",
      "air_conditioner \t\t :  1.00000000000000000000000000000000\n",
      "car_horn \t\t :  0.00000000000000005783933378334958\n",
      "children_playing \t\t :  0.00000001089141576926522247958928\n",
      "dog_bark \t\t :  0.00000000000236615154552977102753\n",
      "drilling \t\t :  0.00000000017974469135317860946088\n",
      "engine_idling \t\t :  0.00000000000691622367016142547413\n",
      "gun_shot \t\t :  0.00000000093781726828723321887082\n",
      "jackhammer \t\t :  0.00000000012537700044834565460405\n",
      "siren \t\t :  0.00000000166928770806151760552893\n",
      "street_music \t\t :  0.00000000000282763244242867362033\n"
     ]
    },
    {
     "name": "stderr",
     "output_type": "stream",
     "text": [
      "C:\\Users\\PC\\Anaconda3\\lib\\site-packages\\sklearn\\preprocessing\\label.py:151: DeprecationWarning: The truth value of an empty array is ambiguous. Returning False, but in future this will result in an error. Use `array.size > 0` to check that an array is not empty.\n",
      "  if diff:\n",
      "C:\\Users\\PC\\Anaconda3\\lib\\site-packages\\sklearn\\preprocessing\\label.py:151: DeprecationWarning: The truth value of an empty array is ambiguous. Returning False, but in future this will result in an error. Use `array.size > 0` to check that an array is not empty.\n",
      "  if diff:\n",
      "C:\\Users\\PC\\Anaconda3\\lib\\site-packages\\sklearn\\preprocessing\\label.py:151: DeprecationWarning: The truth value of an empty array is ambiguous. Returning False, but in future this will result in an error. Use `array.size > 0` to check that an array is not empty.\n",
      "  if diff:\n",
      "C:\\Users\\PC\\Anaconda3\\lib\\site-packages\\sklearn\\preprocessing\\label.py:151: DeprecationWarning: The truth value of an empty array is ambiguous. Returning False, but in future this will result in an error. Use `array.size > 0` to check that an array is not empty.\n",
      "  if diff:\n",
      "C:\\Users\\PC\\Anaconda3\\lib\\site-packages\\sklearn\\preprocessing\\label.py:151: DeprecationWarning: The truth value of an empty array is ambiguous. Returning False, but in future this will result in an error. Use `array.size > 0` to check that an array is not empty.\n",
      "  if diff:\n",
      "C:\\Users\\PC\\Anaconda3\\lib\\site-packages\\sklearn\\preprocessing\\label.py:151: DeprecationWarning: The truth value of an empty array is ambiguous. Returning False, but in future this will result in an error. Use `array.size > 0` to check that an array is not empty.\n",
      "  if diff:\n",
      "C:\\Users\\PC\\Anaconda3\\lib\\site-packages\\sklearn\\preprocessing\\label.py:151: DeprecationWarning: The truth value of an empty array is ambiguous. Returning False, but in future this will result in an error. Use `array.size > 0` to check that an array is not empty.\n",
      "  if diff:\n",
      "C:\\Users\\PC\\Anaconda3\\lib\\site-packages\\sklearn\\preprocessing\\label.py:151: DeprecationWarning: The truth value of an empty array is ambiguous. Returning False, but in future this will result in an error. Use `array.size > 0` to check that an array is not empty.\n",
      "  if diff:\n",
      "C:\\Users\\PC\\Anaconda3\\lib\\site-packages\\sklearn\\preprocessing\\label.py:151: DeprecationWarning: The truth value of an empty array is ambiguous. Returning False, but in future this will result in an error. Use `array.size > 0` to check that an array is not empty.\n",
      "  if diff:\n",
      "C:\\Users\\PC\\Anaconda3\\lib\\site-packages\\sklearn\\preprocessing\\label.py:151: DeprecationWarning: The truth value of an empty array is ambiguous. Returning False, but in future this will result in an error. Use `array.size > 0` to check that an array is not empty.\n",
      "  if diff:\n",
      "C:\\Users\\PC\\Anaconda3\\lib\\site-packages\\sklearn\\preprocessing\\label.py:151: DeprecationWarning: The truth value of an empty array is ambiguous. Returning False, but in future this will result in an error. Use `array.size > 0` to check that an array is not empty.\n",
      "  if diff:\n"
     ]
    }
   ],
   "source": [
    "#air_conditioner \n",
    "filename = '/Users/PC/Deep learning/UrbanSound Dataset sample/audio/100852-0-0-0.wav'\n",
    "print_prediction(filename) "
   ]
  },
  {
   "cell_type": "code",
   "execution_count": 42,
   "metadata": {},
   "outputs": [
    {
     "data": {
      "text/plain": [
       "Text(0.5,1,'Loss Curves')"
      ]
     },
     "execution_count": 42,
     "metadata": {},
     "output_type": "execute_result"
    },
    {
     "data": {
      "image/png": "[encoded data removed]",
      "text/plain": [
       "<Figure size 576x432 with 1 Axes>"
      ]
     },
     "metadata": {},
     "output_type": "display_data"
    }
   ],
   "source": [
    "import matplotlib.pyplot as plt\n",
    "# Loss Curves\n",
    "plt.figure(figsize=[8,6])\n",
    "plt.plot(history.history['loss'],'r',linewidth=3.0)\n",
    "plt.plot(history.history['val_loss'],'b',linewidth=3.0)\n",
    "plt.legend(['Training loss', 'Validation Loss'],fontsize=18)\n",
    "plt.xlabel('Epochs ',fontsize=16)\n",
    "plt.ylabel('Loss',fontsize=16)\n",
    "plt.title('Loss Curves',fontsize=16)"
   ]
  },
  {
   "cell_type": "code",
   "execution_count": 43,
   "metadata": {},
   "outputs": [
    {
     "data": {
      "image/png": "[encoded data removed]",
      "text/plain": [
       "<Figure size 576x432 with 1 Axes>"
      ]
     },
     "metadata": {},
     "output_type": "display_data"
    }
   ],
   "source": [
    "# Accuracy Curves\n",
    "plt.figure(figsize=[8,6])\n",
    "plt.plot(history.history['accuracy'],'r',linewidth=3.0)\n",
    "plt.plot(history.history['val_accuracy'],'b',linewidth=3.0)\n",
    "plt.legend(['Training Accuracy', 'Validation Accuracy'],fontsize=18)\n",
    "plt.xlabel('Epochs ',fontsize=16)\n",
    "plt.ylabel('Accuracy',fontsize=16)\n",
    "plt.title('Accuracy Curves',fontsize=16)\n",
    "\n",
    "plt.show()"
   ]
  },
  {
   "cell_type": "code",
   "execution_count": 62,
   "metadata": {},
   "outputs": [
    {
     "data": {
      "text/plain": [
       "<matplotlib.legend.Legend at 0x1b6f0bd4cc0>"
      ]
     },
     "execution_count": 62,
     "metadata": {},
     "output_type": "execute_result"
    },
    {
     "data": {
      "image/png": "[encoded data removed]",
      "text/plain": [
       "<Figure size 432x288 with 1 Axes>"
      ]
     },
     "metadata": {},
     "output_type": "display_data"
    }
   ],
   "source": [
    "import matplotlib.pyplot as plt\n",
    "\n",
    "plt.plot(history.history['accuracy'], label='training accuracy')\n",
    "plt.plot(history.history['val_accuracy'], label='testing accuracy')\n",
    "plt.title('Accuracy Curve')\n",
    "plt.xlabel('epochs')\n",
    "plt.ylabel('accuracy')\n",
    "plt.legend()"
   ]
  },
  {
   "cell_type": "code",
   "execution_count": 63,
   "metadata": {},
   "outputs": [
    {
     "data": {
      "text/plain": [
       "<matplotlib.legend.Legend at 0x1b6f0c25c18>"
      ]
     },
     "execution_count": 63,
     "metadata": {},
     "output_type": "execute_result"
    },
    {
     "data": {
      "image/png": "[encoded data removed]",
      "text/plain": [
       "<Figure size 432x288 with 1 Axes>"
      ]
     },
     "metadata": {},
     "output_type": "display_data"
    }
   ],
   "source": [
    "plt.plot(history.history['loss'], label='training loss')\n",
    "plt.plot(history.history['val_loss'], label='testing loss')\n",
    "plt.title('Loss Curve')\n",
    "plt.xlabel('epochs')\n",
    "plt.ylabel('loss')\n",
    "plt.legend()"
   ]
  },
  {
   "cell_type": "code",
   "execution_count": 64,
   "metadata": {},
   "outputs": [],
   "source": [
    "from sklearn.metrics import classification_report, confusion_matrix\n",
    "y_probs = model.predict(x_test)\n",
    "\n",
    "# Get predicted labels\n",
    "yhat_probs = np.argmax(y_probs, axis=1)\n",
    "y_trues = np.argmax(y_test, axis=1)"
   ]
  },
  {
   "cell_type": "code",
   "execution_count": 65,
   "metadata": {},
   "outputs": [
    {
     "name": "stdout",
     "output_type": "stream",
     "text": [
      "[[190   0   1   3   0   5   0   0   1   3]\n",
      " [  2  83   0   0   0   0   0   0   1   0]\n",
      " [  2   0 162   7   0   3   0   0   4   5]\n",
      " [  0   1   2 188   1   2   3   0   3   1]\n",
      " [  3   0   3   2 185   2   2   5   1   3]\n",
      " [  0   0   1   1   1 190   0   0   0   0]\n",
      " [  0   0   0   1   0   0  70   1   0   0]\n",
      " [  1   0   0   0   9   0   0 197   0   1]\n",
      " [  0   0   2   2   0   1   0   0 160   0]\n",
      " [  8   1  21   2   0   3   0   2   6 187]]\n"
     ]
    }
   ],
   "source": [
    "np.set_printoptions(precision=2)\n",
    "\n",
    "# Compute confusion matrix data\n",
    "cm = confusion_matrix(y_trues, yhat_probs)\n",
    "print(cm)\n"
   ]
  },
  {
   "cell_type": "code",
   "execution_count": 66,
   "metadata": {},
   "outputs": [
    {
     "name": "stdout",
     "output_type": "stream",
     "text": [
      "                  precision    recall  f1-score   support\n",
      "\n",
      " Air Conditioner       0.92      0.94      0.93       203\n",
      "        Car Horn       0.98      0.97      0.97        86\n",
      "Children Playing       0.84      0.89      0.86       183\n",
      "        Dog bark       0.91      0.94      0.92       201\n",
      "        Drilling       0.94      0.90      0.92       206\n",
      "   Engine Idling       0.92      0.98      0.95       193\n",
      "        Gun Shot       0.93      0.97      0.95        72\n",
      "      Jackhammer       0.96      0.95      0.95       208\n",
      "           Siren       0.91      0.97      0.94       165\n",
      "    Street Music       0.94      0.81      0.87       230\n",
      "\n",
      "     avg / total       0.92      0.92      0.92      1747\n",
      "\n"
     ]
    }
   ],
   "source": [
    "labels = [\n",
    "        'Air Conditioner',\n",
    "        'Car Horn',\n",
    "        'Children Playing',\n",
    "        'Dog bark',\n",
    "        'Drilling',\n",
    "        'Engine Idling',\n",
    "        'Gun Shot',\n",
    "        'Jackhammer',\n",
    "        'Siren',\n",
    "        'Street Music'\n",
    "    ]\n",
    "\n",
    "# Build classification report\n",
    "report = classification_report(y_trues, yhat_probs, labels=[0,1,2,3,4,5,6,7,8,9], target_names=labels)\n",
    "\n",
    "print(report)"
   ]
  },
  {
   "cell_type": "code",
   "execution_count": null,
   "metadata": {},
   "outputs": [],
   "source": []
  },
  {
   "cell_type": "code",
   "execution_count": null,
   "metadata": {},
   "outputs": [],
   "source": []
  },
  {
   "cell_type": "code",
   "execution_count": null,
   "metadata": {},
   "outputs": [],
   "source": []
  }
 ],
 "metadata": {
  "kernelspec": {
   "display_name": "Python 3",
   "language": "python",
   "name": "python3"
  },
  "language_info": {
   "codemirror_mode": {
    "name": "ipython",
    "version": 3
   },
   "file_extension": ".py",
   "mimetype": "text/x-python",
   "name": "python",
   "nbconvert_exporter": "python",
   "pygments_lexer": "ipython3",
   "version": "3.6.5"
  }
 },
 "nbformat": 4,
 "nbformat_minor": 2
}
